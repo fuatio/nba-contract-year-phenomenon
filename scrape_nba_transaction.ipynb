{
 "cells": [
  {
   "cell_type": "code",
   "execution_count": null,
   "metadata": {},
   "outputs": [],
   "source": [
    "import pandas as pd\n",
    "import requests\n",
    "from bs4 import BeautifulSoup\n",
    "\n",
    "\n",
    "\n",
    "url = 'https://basketball.realgm.com/nba/transactions'\n",
    "\n",
    "response = requests.get(url)\n",
    "soup = BeautifulSoup(response.text, \"html.parser\")\n",
    "\n",
    "df_year = pd.DataFrame()\n",
    "for grouped_transaction in soup.find_all('div', {'class' : 'portal widget fullpage'}):\n",
    "    df_day = {'date': '', 'transactions': []}\n",
    "    for date in grouped_transaction.find_all('h3'):\n",
    "        df_day['date'] = date.text\n",
    "        for transaction in grouped_transaction.find_all('li'):\n",
    "            df_day['transactions'].append(transaction.text)\n",
    "    df_day = pd.DataFrame.from_dict(df_day)\n",
    "    df_year = df_year.append(df_day)"
   ]
  },
  {
   "cell_type": "markdown",
   "metadata": {},
   "source": []
  }
 ],
 "metadata": {
  "interpreter": {
   "hash": "31f2aee4e71d21fbe5cf8b01ff0e069b9275f58929596ceb00d14d90e3e16cd6"
  },
  "kernelspec": {
   "display_name": "Python 3.7.3 64-bit",
   "name": "python3"
  },
  "language_info": {
   "name": "python",
   "version": "3.7.3"
  },
  "orig_nbformat": 4
 },
 "nbformat": 4,
 "nbformat_minor": 2
}
